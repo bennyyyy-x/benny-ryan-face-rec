{
 "cells": [
  {
   "cell_type": "code",
   "execution_count": 2,
   "metadata": {},
   "outputs": [
    {
     "name": "stdout",
     "output_type": "stream",
     "text": [
      "['', '.jpg', '.JPG', '.JPEG', '.PNG', '.jpeg', '.png']\n"
     ]
    }
   ],
   "source": [
    "import os\n",
    "\n",
    "# Directories containing the uncropped images\n",
    "directories = [\"./raw_images\"]\n",
    "file_exts = [[os.path.splitext(file)[1] for file in os.listdir(dir)] for dir in directories]\n",
    "print(list(set([ext for exts in file_exts for ext in exts])))\n"
   ]
  },
  {
   "cell_type": "code",
   "execution_count": 3,
   "metadata": {},
   "outputs": [],
   "source": [
    "from PIL import Image\n",
    "import pillow_heif\n",
    "\n",
    "pillow_heif.register_heif_opener()\n",
    "\n",
    "for dir in directories:\n",
    "    files = os.listdir(dir)\n",
    "    for file in files:\n",
    "        # Delete videos\n",
    "        if file.lower().endswith(\".mov\") or file.lower().endswith(\".mp4\"):\n",
    "            os.remove(os.path.join(dir, file))\n",
    "            print(f\"Deleted file: {os.path.join(dir, file)}\")\n",
    "\n",
    "        # Convert HEIC images to JPG\n",
    "        if file.lower().endswith(\".heic\"):\n",
    "            heic_image = Image.open(os.path.join(dir, file))\n",
    "            jpg_file = os.path.splitext(file)[0] + \".jpg\"\n",
    "            heic_image.save(os.path.join(dir, jpg_file), format=\"JPEG\")\n",
    "            os.remove(os.path.join(dir, file))\n",
    "            print(f\"HEIC Image {os.path.join(dir, file)} has been converted to {os.path.join(dir, jpg_file)}\")"
   ]
  },
  {
   "cell_type": "code",
   "execution_count": 4,
   "metadata": {},
   "outputs": [
    {
     "name": "stdout",
     "output_type": "stream",
     "text": [
      "['', '.jpg', '.JPG', '.JPEG', '.PNG', '.jpeg', '.png']\n"
     ]
    }
   ],
   "source": [
    "# Just to make sure the extensions are correct now\n",
    "converted_file_exts = [[os.path.splitext(file)[1] for file in os.listdir(dir)] for dir in directories]\n",
    "print(list(set([ext for exts in converted_file_exts for ext in exts])))"
   ]
  },
  {
   "cell_type": "code",
   "execution_count": null,
   "metadata": {},
   "outputs": [],
   "source": [
    "from mtcnn.mtcnn import MTCNN\n",
    "import numpy as np\n",
    "\n",
    "reached_last_image = True\n",
    "last_face_count = 4000\n",
    "last_cropped_image = \"./raw_benny/IMG_1960.JPG\"\n",
    "\n",
    "face_dir = \"./faces\"\n",
    "if not os.path.exists(face_dir):\n",
    "    os.makedirs(face_dir)\n",
    "\n",
    "for dir in directories:\n",
    "    for file in os.listdir(dir):\n",
    "\n",
    "        # For continuing from last image cropped\n",
    "        if not reached_last_image:\n",
    "            if os.path.join(dir, file) == last_cropped_image:\n",
    "                reached_last_image = True\n",
    "            continue\n",
    "        if not (file.lower().endswith(\".jpg\") or file.lower().endswith(\".png\") or file.lower().endswith(\".jpeg\")):\n",
    "            continue\n",
    "\n",
    "        image = Image.open(os.path.join(dir, file))\n",
    "        if image.mode != \"RGB\":\n",
    "            image = image.convert(\"RGB\")\n",
    "        pixel_arr = np.array(image)\n",
    "\n",
    "        detector = MTCNN()\n",
    "        faces = detector.detect_faces(pixel_arr)\n",
    "        for face in faces:\n",
    "            x, y, width, height = face['box']\n",
    "            cropped_face = image.crop((x, y, x + width, y + height))\n",
    "            face_url = os.path.join(face_dir, f\"face{str(last_face_count)}.jpg\")\n",
    "            cropped_face.save(face_url)\n",
    "            print(f\"Cropped face {str(last_face_count)} from {os.path.join(dir, file)}\")\n",
    "            last_face_count += 1"
   ]
  }
 ],
 "metadata": {
  "kernelspec": {
   "display_name": "benny-ryan-face-rec",
   "language": "python",
   "name": "python3"
  },
  "language_info": {
   "codemirror_mode": {
    "name": "ipython",
    "version": 3
   },
   "file_extension": ".py",
   "mimetype": "text/x-python",
   "name": "python",
   "nbconvert_exporter": "python",
   "pygments_lexer": "ipython3",
   "version": "3.10.14"
  }
 },
 "nbformat": 4,
 "nbformat_minor": 2
}
