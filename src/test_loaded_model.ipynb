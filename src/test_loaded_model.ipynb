{
 "cells": [
  {
   "cell_type": "code",
   "execution_count": 1,
   "metadata": {},
   "outputs": [],
   "source": [
    "import os\n",
    "import numpy as np\n",
    "from keras.preprocessing.image import load_img, img_to_array\n",
    "\n",
    "benny_dir = \"../benny_faces\"\n",
    "ryan_dir = \"../ryan_faces\"\n",
    "other_dir = \"../other_faces\"\n",
    "\n",
    "benny_faces = []\n",
    "ryan_faces = []\n",
    "other_faces = []\n",
    "\n",
    "image_height = 256\n",
    "image_width = 256\n",
    "\n",
    "for image_name in os.listdir(benny_dir):\n",
    "    if image_name.lower().endswith(\".jpg\") or image_name.lower().endswith(\".png\") or image_name.lower().endswith(\".jpeg\"):\n",
    "        img = load_img(os.path.join(benny_dir, image_name), target_size=(image_height, image_width))\n",
    "        img = img_to_array(img) / 255.0\n",
    "        benny_faces.append(img)\n",
    "\n",
    "for image_name in os.listdir(ryan_dir):\n",
    "    if image_name.lower().endswith(\".jpg\") or image_name.lower().endswith(\".png\") or image_name.lower().endswith(\".jpeg\"):\n",
    "        img = load_img(os.path.join(ryan_dir, image_name), target_size=(image_height, image_width))\n",
    "        img = img_to_array(img) / 255.0\n",
    "        ryan_faces.append(img)\n",
    "\n",
    "for image_name in os.listdir(other_dir):\n",
    "    if image_name.lower().endswith(\".jpg\") or image_name.lower().endswith(\".png\") or image_name.lower().endswith(\".jpeg\"):\n",
    "        img = load_img(os.path.join(other_dir, image_name), target_size=(image_height, image_width))\n",
    "        img = img_to_array(img) / 255.0\n",
    "        other_faces.append(img)\n",
    "\n",
    "benny_faces = np.array(benny_faces)\n",
    "ryan_faces = np.array(ryan_faces)\n",
    "other_faces = np.array(other_faces)"
   ]
  },
  {
   "cell_type": "code",
   "execution_count": 2,
   "metadata": {},
   "outputs": [
    {
     "name": "stdout",
     "output_type": "stream",
     "text": [
      "1540 benny faces, 170 ryan faces, 3510 other faces\n"
     ]
    }
   ],
   "source": [
    "print(f\"{str(benny_faces.shape[0])} benny faces, {str(ryan_faces.shape[0])} ryan faces, {str(other_faces.shape[0])} other faces\")"
   ]
  },
  {
   "cell_type": "code",
   "execution_count": 3,
   "metadata": {},
   "outputs": [],
   "source": [
    "X = np.concatenate([benny_faces, ryan_faces, other_faces])\n",
    "y = [[1, 0, 0]] * benny_faces.shape[0] + [[0, 1, 0]] * ryan_faces.shape[0] + [[0, 0, 1]] * other_faces.shape[0]\n",
    "y = np.array(y)"
   ]
  },
  {
   "cell_type": "code",
   "execution_count": 4,
   "metadata": {},
   "outputs": [],
   "source": [
    "import tensorflow as tf\n",
    "from tensorflow import keras\n",
    "\n",
    "model = keras.models.load_model('../models/model2')"
   ]
  },
  {
   "cell_type": "code",
   "execution_count": 10,
   "metadata": {},
   "outputs": [
    {
     "name": "stdout",
     "output_type": "stream",
     "text": [
      "164/164 [==============================] - 7s 44ms/step - loss: 0.1027 - accuracy: 0.9753\n"
     ]
    }
   ],
   "source": [
    "test_loss, test_acc = model.evaluate(X, y, verbose=1)"
   ]
  }
 ],
 "metadata": {
  "kernelspec": {
   "display_name": "benny-ryan-face",
   "language": "python",
   "name": "python3"
  },
  "language_info": {
   "codemirror_mode": {
    "name": "ipython",
    "version": 3
   },
   "file_extension": ".py",
   "mimetype": "text/x-python",
   "name": "python",
   "nbconvert_exporter": "python",
   "pygments_lexer": "ipython3",
   "version": "3.10.14"
  }
 },
 "nbformat": 4,
 "nbformat_minor": 2
}
