{
 "cells": [
  {
   "cell_type": "code",
   "execution_count": 1,
   "metadata": {},
   "outputs": [],
   "source": [
    "import os\n",
    "import numpy as np\n",
    "from keras.preprocessing.image import load_img, img_to_array\n",
    "import matplotlib.pyplot as plt\n",
    "\n",
    "benny_dir = \"../benny_faces\"\n",
    "ryan_dir = \"../ryan_faces\"\n",
    "other_dir = \"../other_faces\"\n",
    "\n",
    "benny_faces = []\n",
    "ryan_faces = []\n",
    "other_faces = []\n",
    "\n",
    "image_height = 256\n",
    "image_width = 256\n",
    "\n",
    "for image_name in os.listdir(benny_dir):\n",
    "    if image_name.lower().endswith(\".jpg\") or image_name.lower().endswith(\".png\") or image_name.lower().endswith(\".jpeg\"):\n",
    "        img = load_img(os.path.join(benny_dir, image_name), target_size=(image_height, image_width))\n",
    "        img = img_to_array(img) / 255.0\n",
    "        benny_faces.append(img)\n",
    "\n",
    "for image_name in os.listdir(ryan_dir):\n",
    "    if image_name.lower().endswith(\".jpg\") or image_name.lower().endswith(\".png\") or image_name.lower().endswith(\".jpeg\"):\n",
    "        img = load_img(os.path.join(ryan_dir, image_name), target_size=(image_height, image_width))\n",
    "        img = img_to_array(img) / 255.0\n",
    "        ryan_faces.append(img)\n",
    "\n",
    "for image_name in os.listdir(other_dir):\n",
    "    if image_name.lower().endswith(\".jpg\") or image_name.lower().endswith(\".png\") or image_name.lower().endswith(\".jpeg\"):\n",
    "        img = load_img(os.path.join(other_dir, image_name), target_size=(image_height, image_width))\n",
    "        img = img_to_array(img) / 255.0\n",
    "        other_faces.append(img)\n",
    "\n",
    "benny_faces = np.array(benny_faces)\n",
    "ryan_faces = np.array(ryan_faces)\n",
    "other_faces = np.array(other_faces)"
   ]
  },
  {
   "cell_type": "code",
   "execution_count": 2,
   "metadata": {},
   "outputs": [
    {
     "name": "stdout",
     "output_type": "stream",
     "text": [
      "1540 benny faces, 170 ryan faces, 3510 other faces\n"
     ]
    }
   ],
   "source": [
    "print(f\"{str(benny_faces.shape[0])} benny faces, {str(ryan_faces.shape[0])} ryan faces, {str(other_faces.shape[0])} other faces\")"
   ]
  },
  {
   "cell_type": "code",
   "execution_count": 3,
   "metadata": {},
   "outputs": [],
   "source": [
    "from sklearn.model_selection import train_test_split\n",
    "\n",
    "benny_train, benny_test = train_test_split(benny_faces, test_size=0.15, random_state=42)\n",
    "ryan_train, ryan_test = train_test_split(ryan_faces, test_size=0.15, random_state=42)\n",
    "other_train, other_test = train_test_split(other_faces, test_size=0.15, random_state=42)\n",
    "\n",
    "benny_train, benny_valid = train_test_split(benny_train, test_size=0.15, random_state=42)\n",
    "ryan_train, ryan_valid = train_test_split(ryan_train, test_size=0.15, random_state=42)\n",
    "other_train, other_valid = train_test_split(other_train, test_size=0.15, random_state=42)"
   ]
  },
  {
   "cell_type": "code",
   "execution_count": 4,
   "metadata": {},
   "outputs": [
    {
     "name": "stdout",
     "output_type": "stream",
     "text": [
      "benny_train.shape: (1112, 256, 256, 3)\n",
      "benny_valid.shape: (197, 256, 256, 3)\n",
      "benny_test.shape: (231, 256, 256, 3)\n",
      "ryan_train.shape: (122, 256, 256, 3)\n",
      "ryan_valid.shape: (22, 256, 256, 3)\n",
      "ryan_test.shape: (26, 256, 256, 3)\n",
      "other_train.shape: (2535, 256, 256, 3)\n",
      "other_valid.shape: (448, 256, 256, 3)\n",
      "other_test.shape: (527, 256, 256, 3)\n"
     ]
    }
   ],
   "source": [
    "print(f\"benny_train.shape: {benny_train.shape}\")\n",
    "print(f\"benny_valid.shape: {benny_valid.shape}\")\n",
    "print(f\"benny_test.shape:  {benny_test.shape}\")\n",
    "\n",
    "print(f\"ryan_train.shape:  {ryan_train.shape}\")\n",
    "print(f\"ryan_valid.shape:  {ryan_valid.shape}\")\n",
    "print(f\"ryan_test.shape:   {ryan_test.shape}\")\n",
    "\n",
    "print(f\"other_train.shape: {other_train.shape}\")\n",
    "print(f\"other_valid.shape: {other_valid.shape}\")\n",
    "print(f\"other_test.shape:  {other_test.shape}\")"
   ]
  },
  {
   "cell_type": "code",
   "execution_count": 5,
   "metadata": {},
   "outputs": [],
   "source": [
    "from keras.preprocessing.image import ImageDataGenerator\n",
    "\n",
    "datagen = ImageDataGenerator(\n",
    "    rotation_range=40,\n",
    "    width_shift_range=0.2,\n",
    "    height_shift_range=0.2,\n",
    "    shear_range=0.2,\n",
    "    zoom_range=0.2,\n",
    "    horizontal_flip=True,\n",
    "    fill_mode='nearest',\n",
    ")"
   ]
  },
  {
   "cell_type": "code",
   "execution_count": 6,
   "metadata": {},
   "outputs": [
    {
     "name": "stdout",
     "output_type": "stream",
     "text": [
      "(2074, 256, 256, 3)\n",
      "(2224, 256, 256, 3)\n"
     ]
    }
   ],
   "source": [
    "desired_num_of_samples = 2000\n",
    "aug_benny_train = benny_train\n",
    "aug_ryan_train = ryan_train\n",
    "\n",
    "for aug_imgs in datagen.flow(ryan_train, batch_size=ryan_train.shape[0]):\n",
    "    aug_ryan_train = np.concatenate((aug_ryan_train, aug_imgs))\n",
    "    if aug_ryan_train.shape[0] >= desired_num_of_samples:\n",
    "        break\n",
    "\n",
    "for aug_imgs in datagen.flow(benny_train, batch_size=benny_train.shape[0]):\n",
    "    aug_benny_train = np.concatenate((aug_benny_train, aug_imgs))\n",
    "    if aug_benny_train.shape[0] >= desired_num_of_samples:\n",
    "        break\n",
    "\n",
    "print(aug_ryan_train.shape)\n",
    "print(aug_benny_train.shape)"
   ]
  },
  {
   "cell_type": "code",
   "execution_count": 7,
   "metadata": {},
   "outputs": [
    {
     "name": "stdout",
     "output_type": "stream",
     "text": [
      "(6833, 256, 256, 3) (6833, 3)\n",
      "(667, 256, 256, 3) (667, 3)\n",
      "(784, 256, 256, 3) (784, 3)\n"
     ]
    }
   ],
   "source": [
    "X_train = np.concatenate((aug_benny_train, aug_ryan_train, other_train))\n",
    "X_valid = np.concatenate((benny_valid, ryan_valid, other_valid))\n",
    "X_test = np.concatenate((benny_test, ryan_test, other_test))\n",
    "\n",
    "y_train = np.array([[1, 0, 0]] * aug_benny_train.shape[0] + [[0, 1, 0]] * aug_ryan_train.shape[0] + [[0, 0, 1]] * other_train.shape[0])\n",
    "y_valid = np.array([[1, 0, 0]] * benny_valid.shape[0] + [[0, 1, 0]] * ryan_valid.shape[0] + [[0, 0, 1]] * other_valid.shape[0])\n",
    "y_test = np.array([[1, 0, 0]] * benny_test.shape[0] + [[0, 1, 0]] * ryan_test.shape[0] + [[0, 0, 1]] * other_test.shape[0])\n",
    "\n",
    "print(X_train.shape, y_train.shape)\n",
    "print(X_valid.shape, y_valid.shape)\n",
    "print(X_test.shape, y_test.shape)"
   ]
  },
  {
   "cell_type": "markdown",
   "metadata": {},
   "source": [
    "### Model 1"
   ]
  },
  {
   "cell_type": "code",
   "execution_count": 13,
   "metadata": {},
   "outputs": [],
   "source": [
    "import tensorflow as tf\n",
    "from tensorflow import keras\n",
    "\n",
    "model1 = keras.models.Sequential([\n",
    "    keras.layers.Conv2D(32, 3, (2, 2), activation=None, input_shape=[256, 256, 3], padding='same'),\n",
    "    keras.layers.BatchNormalization(),\n",
    "    keras.layers.Activation('relu'),\n",
    "    keras.layers.MaxPool2D(2),\n",
    "    keras.layers.Conv2D(64, 3, (2, 2), activation=None, padding='same'),\n",
    "    keras.layers.BatchNormalization(),\n",
    "    keras.layers.Activation('relu'),\n",
    "    keras.layers.MaxPool2D(2),\n",
    "    keras.layers.Conv2D(128, 3, (1, 1), activation=None, padding='same'),\n",
    "    keras.layers.BatchNormalization(),\n",
    "    keras.layers.Activation('relu'),\n",
    "    keras.layers.Conv2D(128, 3, (1, 1), activation=None, padding='same'),\n",
    "    keras.layers.BatchNormalization(),\n",
    "    keras.layers.Activation('relu'),\n",
    "    keras.layers.MaxPool2D(2),\n",
    "    keras.layers.Flatten(),\n",
    "    keras.layers.Dense(1028, activation='relu'),\n",
    "    keras.layers.Dropout(0.5),\n",
    "    keras.layers.Dense(1028, activation='relu'),\n",
    "    keras.layers.Dense(3, activation='softmax')\n",
    "])"
   ]
  },
  {
   "cell_type": "code",
   "execution_count": 14,
   "metadata": {},
   "outputs": [],
   "source": [
    "model1.compile(optimizer=tf.keras.optimizers.legacy.Adam(learning_rate=0.001), loss='categorical_crossentropy', metrics=['accuracy'])"
   ]
  },
  {
   "cell_type": "code",
   "execution_count": 15,
   "metadata": {},
   "outputs": [],
   "source": [
    "import os\n",
    "\n",
    "root_logdir = os.path.join(os.curdir, \"../my_logs\")\n",
    "\n",
    "def get_run_logdir():\n",
    "    import time\n",
    "    run_id = time.strftime(\"run_%Y_%m_%d-%H_%M_%S\")\n",
    "    return os.path.join(root_logdir, run_id)"
   ]
  },
  {
   "cell_type": "code",
   "execution_count": 16,
   "metadata": {},
   "outputs": [
    {
     "name": "stdout",
     "output_type": "stream",
     "text": [
      "Current run log directory: ./../my_logs/run_2024_08_15-10_52_09\n",
      "Epoch 1/400\n",
      "214/214 [==============================] - ETA: 0s - loss: 1.7037 - accuracy: 0.4411INFO:tensorflow:Assets written to: ../models/model1/assets\n"
     ]
    },
    {
     "name": "stderr",
     "output_type": "stream",
     "text": [
      "INFO:tensorflow:Assets written to: ../models/model1/assets\n"
     ]
    },
    {
     "name": "stdout",
     "output_type": "stream",
     "text": [
      "214/214 [==============================] - 27s 125ms/step - loss: 1.7037 - accuracy: 0.4411 - val_loss: 1.2318 - val_accuracy: 0.1259 - lr: 0.0010\n",
      "Epoch 2/400\n",
      "214/214 [==============================] - ETA: 0s - loss: 0.8891 - accuracy: 0.5792INFO:tensorflow:Assets written to: ../models/model1/assets\n"
     ]
    },
    {
     "name": "stderr",
     "output_type": "stream",
     "text": [
      "INFO:tensorflow:Assets written to: ../models/model1/assets\n"
     ]
    },
    {
     "name": "stdout",
     "output_type": "stream",
     "text": [
      "214/214 [==============================] - 28s 131ms/step - loss: 0.8891 - accuracy: 0.5792 - val_loss: 0.7374 - val_accuracy: 0.6702 - lr: 0.0010\n",
      "Epoch 3/400\n",
      "214/214 [==============================] - ETA: 0s - loss: 0.8357 - accuracy: 0.6150INFO:tensorflow:Assets written to: ../models/model1/assets\n"
     ]
    },
    {
     "name": "stderr",
     "output_type": "stream",
     "text": [
      "INFO:tensorflow:Assets written to: ../models/model1/assets\n"
     ]
    },
    {
     "name": "stdout",
     "output_type": "stream",
     "text": [
      "214/214 [==============================] - 29s 137ms/step - loss: 0.8357 - accuracy: 0.6150 - val_loss: 0.6779 - val_accuracy: 0.7346 - lr: 0.0010\n",
      "Epoch 4/400\n",
      "214/214 [==============================] - ETA: 0s - loss: 0.7791 - accuracy: 0.6384INFO:tensorflow:Assets written to: ../models/model1/assets\n"
     ]
    },
    {
     "name": "stderr",
     "output_type": "stream",
     "text": [
      "INFO:tensorflow:Assets written to: ../models/model1/assets\n"
     ]
    },
    {
     "name": "stdout",
     "output_type": "stream",
     "text": [
      "214/214 [==============================] - 27s 126ms/step - loss: 0.7791 - accuracy: 0.6384 - val_loss: 0.5436 - val_accuracy: 0.7931 - lr: 0.0010\n",
      "Epoch 5/400\n",
      "214/214 [==============================] - 26s 123ms/step - loss: 0.7464 - accuracy: 0.6663 - val_loss: 0.6840 - val_accuracy: 0.7226 - lr: 0.0010\n",
      "Epoch 6/400\n",
      "214/214 [==============================] - 27s 124ms/step - loss: 0.7050 - accuracy: 0.6909 - val_loss: 0.7024 - val_accuracy: 0.7376 - lr: 0.0010\n",
      "Epoch 7/400\n",
      "214/214 [==============================] - 26s 122ms/step - loss: 0.6489 - accuracy: 0.7187 - val_loss: 0.6382 - val_accuracy: 0.7616 - lr: 0.0010\n",
      "Epoch 8/400\n",
      "214/214 [==============================] - 25s 117ms/step - loss: 0.6148 - accuracy: 0.7392 - val_loss: 0.5825 - val_accuracy: 0.7991 - lr: 0.0010\n",
      "Epoch 9/400\n",
      "214/214 [==============================] - ETA: 0s - loss: 0.5802 - accuracy: 0.7615INFO:tensorflow:Assets written to: ../models/model1/assets\n"
     ]
    },
    {
     "name": "stderr",
     "output_type": "stream",
     "text": [
      "INFO:tensorflow:Assets written to: ../models/model1/assets\n"
     ]
    },
    {
     "name": "stdout",
     "output_type": "stream",
     "text": [
      "214/214 [==============================] - 26s 122ms/step - loss: 0.5802 - accuracy: 0.7615 - val_loss: 0.4846 - val_accuracy: 0.8276 - lr: 0.0010\n",
      "Epoch 10/400\n",
      "214/214 [==============================] - 26s 120ms/step - loss: 0.5470 - accuracy: 0.7802 - val_loss: 0.6295 - val_accuracy: 0.7826 - lr: 0.0010\n",
      "Epoch 11/400\n",
      "214/214 [==============================] - 25s 116ms/step - loss: 0.4956 - accuracy: 0.8080 - val_loss: 0.5999 - val_accuracy: 0.8006 - lr: 0.0010\n",
      "Epoch 12/400\n",
      "214/214 [==============================] - ETA: 0s - loss: 0.4652 - accuracy: 0.8174INFO:tensorflow:Assets written to: ../models/model1/assets\n"
     ]
    },
    {
     "name": "stderr",
     "output_type": "stream",
     "text": [
      "INFO:tensorflow:Assets written to: ../models/model1/assets\n"
     ]
    },
    {
     "name": "stdout",
     "output_type": "stream",
     "text": [
      "214/214 [==============================] - 25s 118ms/step - loss: 0.4652 - accuracy: 0.8174 - val_loss: 0.4813 - val_accuracy: 0.8621 - lr: 0.0010\n",
      "Epoch 13/400\n",
      "214/214 [==============================] - 26s 122ms/step - loss: 0.4361 - accuracy: 0.8292 - val_loss: 0.7361 - val_accuracy: 0.6417 - lr: 0.0010\n",
      "Epoch 14/400\n",
      "214/214 [==============================] - 26s 120ms/step - loss: 0.3997 - accuracy: 0.8438 - val_loss: 0.5511 - val_accuracy: 0.7586 - lr: 0.0010\n",
      "Epoch 15/400\n",
      "214/214 [==============================] - ETA: 0s - loss: 0.3845 - accuracy: 0.8507INFO:tensorflow:Assets written to: ../models/model1/assets\n"
     ]
    },
    {
     "name": "stderr",
     "output_type": "stream",
     "text": [
      "INFO:tensorflow:Assets written to: ../models/model1/assets\n"
     ]
    },
    {
     "name": "stdout",
     "output_type": "stream",
     "text": [
      "214/214 [==============================] - 26s 123ms/step - loss: 0.3845 - accuracy: 0.8507 - val_loss: 0.4047 - val_accuracy: 0.8411 - lr: 0.0010\n",
      "Epoch 16/400\n",
      "214/214 [==============================] - 27s 126ms/step - loss: 0.3652 - accuracy: 0.8602 - val_loss: 0.4364 - val_accuracy: 0.8366 - lr: 0.0010\n",
      "Epoch 17/400\n",
      "214/214 [==============================] - ETA: 0s - loss: 0.3580 - accuracy: 0.8635INFO:tensorflow:Assets written to: ../models/model1/assets\n"
     ]
    },
    {
     "name": "stderr",
     "output_type": "stream",
     "text": [
      "INFO:tensorflow:Assets written to: ../models/model1/assets\n"
     ]
    },
    {
     "name": "stdout",
     "output_type": "stream",
     "text": [
      "214/214 [==============================] - 26s 124ms/step - loss: 0.3580 - accuracy: 0.8635 - val_loss: 0.3498 - val_accuracy: 0.8726 - lr: 0.0010\n",
      "Epoch 18/400\n",
      "214/214 [==============================] - 26s 122ms/step - loss: 0.3228 - accuracy: 0.8791 - val_loss: 0.4118 - val_accuracy: 0.8276 - lr: 0.0010\n",
      "Epoch 19/400\n",
      "214/214 [==============================] - 25s 118ms/step - loss: 0.2970 - accuracy: 0.8856 - val_loss: 0.3965 - val_accuracy: 0.8681 - lr: 0.0010\n",
      "Epoch 20/400\n",
      "214/214 [==============================] - 25s 116ms/step - loss: 0.2744 - accuracy: 0.8916 - val_loss: 0.5404 - val_accuracy: 0.7796 - lr: 0.0010\n",
      "Epoch 21/400\n",
      "214/214 [==============================] - ETA: 0s - loss: 0.2506 - accuracy: 0.9015INFO:tensorflow:Assets written to: ../models/model1/assets\n"
     ]
    },
    {
     "name": "stderr",
     "output_type": "stream",
     "text": [
      "INFO:tensorflow:Assets written to: ../models/model1/assets\n"
     ]
    },
    {
     "name": "stdout",
     "output_type": "stream",
     "text": [
      "214/214 [==============================] - 26s 120ms/step - loss: 0.2506 - accuracy: 0.9015 - val_loss: 0.3419 - val_accuracy: 0.8921 - lr: 0.0010\n",
      "Epoch 22/400\n",
      "214/214 [==============================] - 26s 122ms/step - loss: 0.2589 - accuracy: 0.8987 - val_loss: 0.5645 - val_accuracy: 0.8051 - lr: 0.0010\n",
      "Epoch 23/400\n",
      "214/214 [==============================] - 25s 119ms/step - loss: 0.2200 - accuracy: 0.9115 - val_loss: 0.3530 - val_accuracy: 0.8876 - lr: 0.0010\n",
      "Epoch 24/400\n",
      "214/214 [==============================] - ETA: 0s - loss: 0.2087 - accuracy: 0.9151INFO:tensorflow:Assets written to: ../models/model1/assets\n"
     ]
    },
    {
     "name": "stderr",
     "output_type": "stream",
     "text": [
      "INFO:tensorflow:Assets written to: ../models/model1/assets\n"
     ]
    },
    {
     "name": "stdout",
     "output_type": "stream",
     "text": [
      "214/214 [==============================] - 26s 120ms/step - loss: 0.2087 - accuracy: 0.9151 - val_loss: 0.3269 - val_accuracy: 0.8876 - lr: 0.0010\n",
      "Epoch 25/400\n",
      "214/214 [==============================] - ETA: 0s - loss: 0.1949 - accuracy: 0.9229INFO:tensorflow:Assets written to: ../models/model1/assets\n"
     ]
    },
    {
     "name": "stderr",
     "output_type": "stream",
     "text": [
      "INFO:tensorflow:Assets written to: ../models/model1/assets\n"
     ]
    },
    {
     "name": "stdout",
     "output_type": "stream",
     "text": [
      "214/214 [==============================] - 30s 139ms/step - loss: 0.1949 - accuracy: 0.9229 - val_loss: 0.3128 - val_accuracy: 0.8786 - lr: 0.0010\n",
      "Epoch 26/400\n",
      "214/214 [==============================] - ETA: 0s - loss: 0.1891 - accuracy: 0.9267INFO:tensorflow:Assets written to: ../models/model1/assets\n"
     ]
    },
    {
     "name": "stderr",
     "output_type": "stream",
     "text": [
      "INFO:tensorflow:Assets written to: ../models/model1/assets\n"
     ]
    },
    {
     "name": "stdout",
     "output_type": "stream",
     "text": [
      "214/214 [==============================] - 28s 129ms/step - loss: 0.1891 - accuracy: 0.9267 - val_loss: 0.2802 - val_accuracy: 0.9040 - lr: 0.0010\n",
      "Epoch 27/400\n",
      "214/214 [==============================] - 27s 127ms/step - loss: 0.1696 - accuracy: 0.9328 - val_loss: 0.3261 - val_accuracy: 0.8801 - lr: 0.0010\n",
      "Epoch 28/400\n",
      "214/214 [==============================] - 27s 125ms/step - loss: 0.1680 - accuracy: 0.9339 - val_loss: 0.5303 - val_accuracy: 0.8366 - lr: 0.0010\n",
      "Epoch 29/400\n",
      "214/214 [==============================] - 25s 118ms/step - loss: 0.1467 - accuracy: 0.9442 - val_loss: 0.4450 - val_accuracy: 0.8261 - lr: 0.0010\n",
      "Epoch 30/400\n",
      "214/214 [==============================] - 25s 116ms/step - loss: 0.1397 - accuracy: 0.9464 - val_loss: 0.3228 - val_accuracy: 0.8891 - lr: 0.0010\n",
      "Epoch 31/400\n",
      "214/214 [==============================] - 25s 115ms/step - loss: 0.1426 - accuracy: 0.9423 - val_loss: 0.3842 - val_accuracy: 0.8546 - lr: 0.0010\n",
      "Epoch 32/400\n",
      "214/214 [==============================] - 25s 115ms/step - loss: 0.1048 - accuracy: 0.9573 - val_loss: 0.3097 - val_accuracy: 0.8996 - lr: 5.0000e-04\n",
      "Epoch 33/400\n",
      "214/214 [==============================] - 25s 116ms/step - loss: 0.0957 - accuracy: 0.9622 - val_loss: 0.2940 - val_accuracy: 0.9070 - lr: 5.0000e-04\n",
      "Epoch 34/400\n",
      "214/214 [==============================] - 25s 116ms/step - loss: 0.0873 - accuracy: 0.9631 - val_loss: 0.2839 - val_accuracy: 0.8951 - lr: 5.0000e-04\n",
      "Epoch 35/400\n",
      "214/214 [==============================] - 25s 115ms/step - loss: 0.0838 - accuracy: 0.9634 - val_loss: 0.3103 - val_accuracy: 0.8906 - lr: 5.0000e-04\n",
      "Epoch 36/400\n",
      "214/214 [==============================] - 25s 116ms/step - loss: 0.0845 - accuracy: 0.9641 - val_loss: 0.2963 - val_accuracy: 0.9100 - lr: 5.0000e-04\n"
     ]
    }
   ],
   "source": [
    "run_log_dir = get_run_logdir()\n",
    "print(f\"Current run log directory: {run_log_dir}\")\n",
    "tensorboard_callback = keras.callbacks.TensorBoard(log_dir=run_log_dir)\n",
    "early_stopping = keras.callbacks.EarlyStopping(patience=10, restore_best_weights=True)\n",
    "reduce_lr = keras.callbacks.ReduceLROnPlateau(monitor='val_loss', factor=0.5, patience=5, min_lr=0.00001)\n",
    "\n",
    "model_dir = \"../models/model1\"\n",
    "if not os.path.exists(model_dir):\n",
    "    os.makedirs(model_dir)\n",
    "checkpoint_cb = keras.callbacks.ModelCheckpoint(model_dir, save_best_only=True, save_freq=\"epoch\")\n",
    "\n",
    "history = model1.fit(X_train, y_train, epochs=400, batch_size=32,\n",
    "                    validation_data=(X_valid, y_valid),\n",
    "                    callbacks=[tensorboard_callback, early_stopping, checkpoint_cb, reduce_lr])"
   ]
  },
  {
   "cell_type": "code",
   "execution_count": null,
   "metadata": {},
   "outputs": [],
   "source": [
    "%load_ext tensorboard\n",
    "%tensorboard --logdir=./my_logs --port=6006"
   ]
  },
  {
   "cell_type": "code",
   "execution_count": 17,
   "metadata": {},
   "outputs": [
    {
     "name": "stdout",
     "output_type": "stream",
     "text": [
      "25/25 - 1s - loss: 0.2521 - accuracy: 0.9260 - 933ms/epoch - 37ms/step\n"
     ]
    }
   ],
   "source": [
    "test_loss, test_acc = model1.evaluate(X_test, y_test, verbose=2)"
   ]
  },
  {
   "cell_type": "code",
   "execution_count": 18,
   "metadata": {},
   "outputs": [],
   "source": [
    "def predict_one(file, model):\n",
    "    img = load_img(file, target_size=(256, 256))\n",
    "    plt.imshow(img)\n",
    "    plt.axis('off')\n",
    "    plt.show()\n",
    "    img_array = np.expand_dims(img_to_array(img), axis=0)\n",
    "    img_array = img_array / 255.0\n",
    "    score = model.predict(img_array)\n",
    "    return score"
   ]
  },
  {
   "cell_type": "code",
   "execution_count": 19,
   "metadata": {},
   "outputs": [
    {
     "data": {
      "image/png": "[encoded data removed]",
      "text/plain": [
       "<Figure size 640x480 with 1 Axes>"
      ]
     },
     "metadata": {},
     "output_type": "display_data"
    },
    {
     "name": "stdout",
     "output_type": "stream",
     "text": [
      "1/1 [==============================] - 0s 101ms/step\n",
      "[[1.4695732e-02 4.0444339e-04 9.8489976e-01]]\n"
     ]
    }
   ],
   "source": [
    "print(predict_one(\"../other_faces/face1314.jpg\", model1))"
   ]
  },
  {
   "cell_type": "markdown",
   "metadata": {},
   "source": [
    "### Model 2"
   ]
  },
  {
   "cell_type": "code",
   "execution_count": 35,
   "metadata": {},
   "outputs": [],
   "source": [
    "model2 = keras.models.Sequential([\n",
    "    keras.layers.Conv2D(64, 3, (2, 2), activation=None, input_shape=[256, 256, 3], padding='same'),\n",
    "    keras.layers.BatchNormalization(),\n",
    "    keras.layers.Activation('relu'),\n",
    "    keras.layers.MaxPool2D(2),\n",
    "    keras.layers.Conv2D(64, 3, (2, 2), activation=None, padding='same'),\n",
    "    keras.layers.BatchNormalization(),\n",
    "    keras.layers.Activation('relu'),\n",
    "    keras.layers.MaxPool2D(2),\n",
    "    keras.layers.Conv2D(128, 3, (1, 1), activation=None, padding='same'),\n",
    "    keras.layers.BatchNormalization(),\n",
    "    keras.layers.Activation('relu'),\n",
    "    keras.layers.Conv2D(256, 3, (1, 1), activation=None, padding='same'),\n",
    "    keras.layers.BatchNormalization(),\n",
    "    keras.layers.Activation('relu'),\n",
    "    keras.layers.MaxPool2D(2),\n",
    "    keras.layers.Flatten(),\n",
    "    keras.layers.Dense(1028, activation='relu'),\n",
    "    keras.layers.Dropout(0.5),\n",
    "    keras.layers.Dense(1028, activation='relu'),\n",
    "    keras.layers.Dense(3, activation='softmax')\n",
    "])"
   ]
  },
  {
   "cell_type": "code",
   "execution_count": 36,
   "metadata": {},
   "outputs": [],
   "source": [
    "model2.compile(optimizer=tf.keras.optimizers.legacy.Adam(learning_rate=0.0001, clipvalue=1.0), loss='categorical_crossentropy', metrics=['accuracy'])"
   ]
  },
  {
   "cell_type": "code",
   "execution_count": 37,
   "metadata": {},
   "outputs": [
    {
     "name": "stdout",
     "output_type": "stream",
     "text": [
      "Current run log dir: ./../my_logs/run_2024_08_15-12_04_52\n",
      "Epoch 1/400\n",
      "214/214 [==============================] - ETA: 0s - loss: 1.0492 - accuracy: 0.5623INFO:tensorflow:Assets written to: ../models/model2/assets\n"
     ]
    },
    {
     "name": "stderr",
     "output_type": "stream",
     "text": [
      "INFO:tensorflow:Assets written to: ../models/model2/assets\n"
     ]
    },
    {
     "name": "stdout",
     "output_type": "stream",
     "text": [
      "214/214 [==============================] - 47s 216ms/step - loss: 1.0492 - accuracy: 0.5623 - val_loss: 1.4919 - val_accuracy: 0.0345\n",
      "Epoch 2/400\n",
      "214/214 [==============================] - ETA: 0s - loss: 0.7210 - accuracy: 0.6861INFO:tensorflow:Assets written to: ../models/model2/assets\n"
     ]
    },
    {
     "name": "stderr",
     "output_type": "stream",
     "text": [
      "INFO:tensorflow:Assets written to: ../models/model2/assets\n"
     ]
    },
    {
     "name": "stdout",
     "output_type": "stream",
     "text": [
      "214/214 [==============================] - 48s 226ms/step - loss: 0.7210 - accuracy: 0.6861 - val_loss: 1.1427 - val_accuracy: 0.3838\n",
      "Epoch 3/400\n",
      "214/214 [==============================] - ETA: 0s - loss: 0.6347 - accuracy: 0.7253INFO:tensorflow:Assets written to: ../models/model2/assets\n"
     ]
    },
    {
     "name": "stderr",
     "output_type": "stream",
     "text": [
      "INFO:tensorflow:Assets written to: ../models/model2/assets\n"
     ]
    },
    {
     "name": "stdout",
     "output_type": "stream",
     "text": [
      "214/214 [==============================] - 49s 229ms/step - loss: 0.6347 - accuracy: 0.7253 - val_loss: 0.5306 - val_accuracy: 0.7946\n",
      "Epoch 4/400\n",
      "214/214 [==============================] - ETA: 0s - loss: 0.5483 - accuracy: 0.7688INFO:tensorflow:Assets written to: ../models/model2/assets\n"
     ]
    },
    {
     "name": "stderr",
     "output_type": "stream",
     "text": [
      "INFO:tensorflow:Assets written to: ../models/model2/assets\n"
     ]
    },
    {
     "name": "stdout",
     "output_type": "stream",
     "text": [
      "214/214 [==============================] - 48s 224ms/step - loss: 0.5483 - accuracy: 0.7688 - val_loss: 0.5209 - val_accuracy: 0.8126\n",
      "Epoch 5/400\n",
      "214/214 [==============================] - ETA: 0s - loss: 0.4805 - accuracy: 0.8037INFO:tensorflow:Assets written to: ../models/model2/assets\n"
     ]
    },
    {
     "name": "stderr",
     "output_type": "stream",
     "text": [
      "INFO:tensorflow:Assets written to: ../models/model2/assets\n"
     ]
    },
    {
     "name": "stdout",
     "output_type": "stream",
     "text": [
      "214/214 [==============================] - 47s 220ms/step - loss: 0.4805 - accuracy: 0.8037 - val_loss: 0.4526 - val_accuracy: 0.8366\n",
      "Epoch 6/400\n",
      "214/214 [==============================] - 47s 221ms/step - loss: 0.4375 - accuracy: 0.8181 - val_loss: 0.4603 - val_accuracy: 0.8291\n",
      "Epoch 7/400\n",
      "214/214 [==============================] - 44s 206ms/step - loss: 0.3692 - accuracy: 0.8519 - val_loss: 0.5437 - val_accuracy: 0.8276\n",
      "Epoch 8/400\n",
      "214/214 [==============================] - 45s 210ms/step - loss: 0.3454 - accuracy: 0.8626 - val_loss: 0.4888 - val_accuracy: 0.8381\n",
      "Epoch 9/400\n",
      "214/214 [==============================] - ETA: 0s - loss: 0.3003 - accuracy: 0.8835INFO:tensorflow:Assets written to: ../models/model2/assets\n"
     ]
    },
    {
     "name": "stderr",
     "output_type": "stream",
     "text": [
      "INFO:tensorflow:Assets written to: ../models/model2/assets\n"
     ]
    },
    {
     "name": "stdout",
     "output_type": "stream",
     "text": [
      "214/214 [==============================] - 48s 224ms/step - loss: 0.3003 - accuracy: 0.8835 - val_loss: 0.3721 - val_accuracy: 0.8981\n",
      "Epoch 10/400\n",
      "214/214 [==============================] - 48s 226ms/step - loss: 0.2702 - accuracy: 0.8951 - val_loss: 0.4480 - val_accuracy: 0.8621\n",
      "Epoch 11/400\n",
      "214/214 [==============================] - 44s 203ms/step - loss: 0.2399 - accuracy: 0.9093 - val_loss: 0.4502 - val_accuracy: 0.8846\n",
      "Epoch 12/400\n",
      "214/214 [==============================] - 44s 206ms/step - loss: 0.2062 - accuracy: 0.9197 - val_loss: 0.4790 - val_accuracy: 0.8756\n",
      "Epoch 13/400\n",
      "214/214 [==============================] - 44s 207ms/step - loss: 0.1837 - accuracy: 0.9315 - val_loss: 0.7259 - val_accuracy: 0.8141\n",
      "Epoch 14/400\n",
      "214/214 [==============================] - 45s 209ms/step - loss: 0.1824 - accuracy: 0.9339 - val_loss: 0.4172 - val_accuracy: 0.8936\n",
      "Epoch 15/400\n",
      "214/214 [==============================] - 46s 214ms/step - loss: 0.1526 - accuracy: 0.9419 - val_loss: 0.4241 - val_accuracy: 0.8981\n",
      "Epoch 16/400\n",
      "214/214 [==============================] - 45s 210ms/step - loss: 0.1450 - accuracy: 0.9451 - val_loss: 0.4783 - val_accuracy: 0.8936\n",
      "Epoch 17/400\n",
      "214/214 [==============================] - 47s 222ms/step - loss: 0.1414 - accuracy: 0.9478 - val_loss: 0.4286 - val_accuracy: 0.8801\n",
      "Epoch 18/400\n",
      "214/214 [==============================] - 44s 208ms/step - loss: 0.1120 - accuracy: 0.9555 - val_loss: 0.4219 - val_accuracy: 0.9025\n",
      "Epoch 19/400\n",
      "214/214 [==============================] - 45s 208ms/step - loss: 0.0973 - accuracy: 0.9634 - val_loss: 0.5173 - val_accuracy: 0.8801\n"
     ]
    }
   ],
   "source": [
    "run2_log_dir = get_run_logdir()\n",
    "print(f\"Current run log dir: {run2_log_dir}\")\n",
    "tensorboard_callback2 = keras.callbacks.TensorBoard(log_dir=run2_log_dir)\n",
    "\n",
    "model2_dir = \"../models/model2\"\n",
    "if not os.path.exists(model2_dir):\n",
    "    os.makedirs(model2_dir)\n",
    "checkpoint_cb2 = keras.callbacks.ModelCheckpoint(model2_dir, save_best_only=True, save_freq=\"epoch\")\n",
    "\n",
    "history = model2.fit(X_train, y_train, epochs=400, batch_size=32,\n",
    "                    validation_data=(X_valid, y_valid),\n",
    "                    callbacks=[tensorboard_callback2, early_stopping, checkpoint_cb2])"
   ]
  },
  {
   "cell_type": "code",
   "execution_count": 38,
   "metadata": {},
   "outputs": [
    {
     "name": "stdout",
     "output_type": "stream",
     "text": [
      "25/25 - 2s - loss: 0.2806 - accuracy: 0.9031 - 2s/epoch - 62ms/step\n"
     ]
    }
   ],
   "source": [
    "test_loss2, test_acc2 = model2.evaluate(X_test, y_test, verbose=2)"
   ]
  },
  {
   "cell_type": "code",
   "execution_count": 39,
   "metadata": {},
   "outputs": [
    {
     "data": {
      "image/png": "[encoded data removed]",
      "text/plain": [
       "<Figure size 640x480 with 1 Axes>"
      ]
     },
     "metadata": {},
     "output_type": "display_data"
    },
    {
     "name": "stdout",
     "output_type": "stream",
     "text": [
      "1/1 [==============================] - 0s 65ms/step\n",
      "[[0.01180485 0.03620426 0.9519909 ]]\n"
     ]
    }
   ],
   "source": [
    "print(predict_one(\"../other_faces/face1314.jpg\", model2))"
   ]
  },
  {
   "cell_type": "markdown",
   "metadata": {},
   "source": [
    "### Model 3"
   ]
  },
  {
   "cell_type": "code",
   "execution_count": 28,
   "metadata": {},
   "outputs": [],
   "source": [
    "model3 = keras.models.Sequential([\n",
    "    keras.layers.Conv2D(64, 3, (2, 2), activation=None, input_shape=[256, 256, 3], padding='same'),\n",
    "    keras.layers.BatchNormalization(),\n",
    "    keras.layers.Activation('relu'),\n",
    "    keras.layers.MaxPool2D(2),\n",
    "    keras.layers.Conv2D(64, 3, (2, 2), activation=None, padding='same'),\n",
    "    keras.layers.BatchNormalization(),\n",
    "    keras.layers.Activation('relu'),\n",
    "    keras.layers.MaxPool2D(2),\n",
    "    keras.layers.Conv2D(128, 3, (1, 1), activation=None, padding='same'),\n",
    "    keras.layers.BatchNormalization(),\n",
    "    keras.layers.Activation('relu'),\n",
    "    keras.layers.Conv2D(256, 3, (1, 1), activation=None, padding='same'),\n",
    "    keras.layers.BatchNormalization(),\n",
    "    keras.layers.Activation('relu'),\n",
    "    keras.layers.MaxPool2D(2),\n",
    "    keras.layers.Flatten(),\n",
    "    keras.layers.Dense(1028, activation='relu'),\n",
    "    keras.layers.Dropout(0.5),\n",
    "    keras.layers.Dense(1028, activation='relu'),\n",
    "    keras.layers.Dense(3, activation='softmax')\n",
    "])"
   ]
  },
  {
   "cell_type": "code",
   "execution_count": 29,
   "metadata": {},
   "outputs": [],
   "source": [
    "model3.compile(optimizer=tf.keras.optimizers.legacy.Adam(learning_rate=0.0001, clipvalue=1.0), loss='categorical_crossentropy', metrics=['accuracy'])"
   ]
  },
  {
   "cell_type": "code",
   "execution_count": 30,
   "metadata": {},
   "outputs": [
    {
     "name": "stdout",
     "output_type": "stream",
     "text": [
      "Current run log dir: ./../my_logs/run_2024_08_15-11_45_13\n",
      "Epoch 1/400\n",
      "214/214 [==============================] - ETA: 0s - loss: 1.0217 - accuracy: 0.5686INFO:tensorflow:Assets written to: ../models/model3/assets\n"
     ]
    },
    {
     "name": "stderr",
     "output_type": "stream",
     "text": [
      "INFO:tensorflow:Assets written to: ../models/model3/assets\n"
     ]
    },
    {
     "name": "stdout",
     "output_type": "stream",
     "text": [
      "214/214 [==============================] - 47s 216ms/step - loss: 1.0217 - accuracy: 0.5686 - val_loss: 1.1130 - val_accuracy: 0.3913 - lr: 1.0000e-04\n",
      "Epoch 2/400\n",
      "214/214 [==============================] - ETA: 0s - loss: 0.7300 - accuracy: 0.6834INFO:tensorflow:Assets written to: ../models/model3/assets\n"
     ]
    },
    {
     "name": "stderr",
     "output_type": "stream",
     "text": [
      "INFO:tensorflow:Assets written to: ../models/model3/assets\n"
     ]
    },
    {
     "name": "stdout",
     "output_type": "stream",
     "text": [
      "214/214 [==============================] - 48s 223ms/step - loss: 0.7300 - accuracy: 0.6834 - val_loss: 1.0102 - val_accuracy: 0.4483 - lr: 1.0000e-04\n",
      "Epoch 3/400\n",
      "214/214 [==============================] - ETA: 0s - loss: 0.6192 - accuracy: 0.7408INFO:tensorflow:Assets written to: ../models/model3/assets\n"
     ]
    },
    {
     "name": "stderr",
     "output_type": "stream",
     "text": [
      "INFO:tensorflow:Assets written to: ../models/model3/assets\n"
     ]
    },
    {
     "name": "stdout",
     "output_type": "stream",
     "text": [
      "214/214 [==============================] - 48s 224ms/step - loss: 0.6192 - accuracy: 0.7408 - val_loss: 0.5382 - val_accuracy: 0.7916 - lr: 1.0000e-04\n",
      "Epoch 4/400\n",
      "214/214 [==============================] - ETA: 0s - loss: 0.5321 - accuracy: 0.7746INFO:tensorflow:Assets written to: ../models/model3/assets\n"
     ]
    },
    {
     "name": "stderr",
     "output_type": "stream",
     "text": [
      "INFO:tensorflow:Assets written to: ../models/model3/assets\n"
     ]
    },
    {
     "name": "stdout",
     "output_type": "stream",
     "text": [
      "214/214 [==============================] - 47s 221ms/step - loss: 0.5321 - accuracy: 0.7746 - val_loss: 0.4365 - val_accuracy: 0.8426 - lr: 1.0000e-04\n",
      "Epoch 5/400\n",
      "214/214 [==============================] - 47s 219ms/step - loss: 0.4704 - accuracy: 0.8093 - val_loss: 0.4460 - val_accuracy: 0.8261 - lr: 1.0000e-04\n",
      "Epoch 6/400\n",
      "214/214 [==============================] - 44s 207ms/step - loss: 0.4114 - accuracy: 0.8343 - val_loss: 0.5087 - val_accuracy: 0.8231 - lr: 1.0000e-04\n",
      "Epoch 7/400\n",
      "214/214 [==============================] - ETA: 0s - loss: 0.3707 - accuracy: 0.8523INFO:tensorflow:Assets written to: ../models/model3/assets\n"
     ]
    },
    {
     "name": "stderr",
     "output_type": "stream",
     "text": [
      "INFO:tensorflow:Assets written to: ../models/model3/assets\n"
     ]
    },
    {
     "name": "stdout",
     "output_type": "stream",
     "text": [
      "214/214 [==============================] - 46s 213ms/step - loss: 0.3707 - accuracy: 0.8523 - val_loss: 0.3816 - val_accuracy: 0.8801 - lr: 1.0000e-04\n",
      "Epoch 8/400\n",
      "214/214 [==============================] - 49s 229ms/step - loss: 0.3218 - accuracy: 0.8752 - val_loss: 0.4389 - val_accuracy: 0.8516 - lr: 1.0000e-04\n",
      "Epoch 9/400\n",
      "214/214 [==============================] - 47s 218ms/step - loss: 0.2870 - accuracy: 0.8885 - val_loss: 0.5806 - val_accuracy: 0.8216 - lr: 1.0000e-04\n",
      "Epoch 10/400\n",
      "214/214 [==============================] - 43s 202ms/step - loss: 0.2642 - accuracy: 0.8946 - val_loss: 0.3963 - val_accuracy: 0.8891 - lr: 1.0000e-04\n",
      "Epoch 11/400\n",
      "214/214 [==============================] - 44s 205ms/step - loss: 0.2314 - accuracy: 0.9132 - val_loss: 0.3907 - val_accuracy: 0.8951 - lr: 1.0000e-04\n",
      "Epoch 12/400\n",
      "214/214 [==============================] - 44s 207ms/step - loss: 0.2072 - accuracy: 0.9230 - val_loss: 0.4097 - val_accuracy: 0.8801 - lr: 1.0000e-04\n",
      "Epoch 13/400\n",
      "214/214 [==============================] - ETA: 0s - loss: 0.1345 - accuracy: 0.9513INFO:tensorflow:Assets written to: ../models/model3/assets\n"
     ]
    },
    {
     "name": "stderr",
     "output_type": "stream",
     "text": [
      "INFO:tensorflow:Assets written to: ../models/model3/assets\n"
     ]
    },
    {
     "name": "stdout",
     "output_type": "stream",
     "text": [
      "214/214 [==============================] - 44s 208ms/step - loss: 0.1345 - accuracy: 0.9513 - val_loss: 0.3716 - val_accuracy: 0.8996 - lr: 5.0000e-05\n",
      "Epoch 14/400\n",
      "214/214 [==============================] - 49s 227ms/step - loss: 0.1134 - accuracy: 0.9595 - val_loss: 0.4219 - val_accuracy: 0.8891 - lr: 5.0000e-05\n",
      "Epoch 15/400\n",
      "214/214 [==============================] - 45s 209ms/step - loss: 0.0966 - accuracy: 0.9663 - val_loss: 0.4229 - val_accuracy: 0.9070 - lr: 5.0000e-05\n",
      "Epoch 16/400\n",
      "214/214 [==============================] - 45s 209ms/step - loss: 0.0846 - accuracy: 0.9706 - val_loss: 0.4177 - val_accuracy: 0.9130 - lr: 5.0000e-05\n",
      "Epoch 17/400\n",
      "214/214 [==============================] - 45s 212ms/step - loss: 0.0749 - accuracy: 0.9753 - val_loss: 0.4333 - val_accuracy: 0.9055 - lr: 5.0000e-05\n",
      "Epoch 18/400\n",
      "214/214 [==============================] - 46s 217ms/step - loss: 0.0672 - accuracy: 0.9785 - val_loss: 0.4447 - val_accuracy: 0.9040 - lr: 5.0000e-05\n",
      "Epoch 19/400\n",
      "214/214 [==============================] - 45s 210ms/step - loss: 0.0475 - accuracy: 0.9840 - val_loss: 0.4875 - val_accuracy: 0.9070 - lr: 2.5000e-05\n",
      "Epoch 20/400\n",
      "214/214 [==============================] - 45s 210ms/step - loss: 0.0421 - accuracy: 0.9862 - val_loss: 0.5199 - val_accuracy: 0.8936 - lr: 2.5000e-05\n",
      "Epoch 21/400\n",
      "214/214 [==============================] - 44s 207ms/step - loss: 0.0387 - accuracy: 0.9890 - val_loss: 0.5139 - val_accuracy: 0.9100 - lr: 2.5000e-05\n",
      "Epoch 22/400\n",
      "214/214 [==============================] - 45s 208ms/step - loss: 0.0345 - accuracy: 0.9900 - val_loss: 0.5037 - val_accuracy: 0.8996 - lr: 2.5000e-05\n",
      "Epoch 23/400\n",
      "214/214 [==============================] - 45s 208ms/step - loss: 0.0359 - accuracy: 0.9880 - val_loss: 0.4906 - val_accuracy: 0.9085 - lr: 2.5000e-05\n"
     ]
    }
   ],
   "source": [
    "run3_log_dir = get_run_logdir()\n",
    "print(f\"Current run log dir: {run3_log_dir}\")\n",
    "tensorboard_callback3 = keras.callbacks.TensorBoard(log_dir=run3_log_dir)\n",
    "\n",
    "model3_dir = \"../models/model3\"\n",
    "if not os.path.exists(model3_dir):\n",
    "    os.makedirs(model3_dir)\n",
    "checkpoint_cb3 = keras.callbacks.ModelCheckpoint(model3_dir, save_best_only=True, save_freq=\"epoch\")\n",
    "\n",
    "history = model3.fit(X_train, y_train, epochs=400, batch_size=32,\n",
    "                    validation_data=(X_valid, y_valid),\n",
    "                    callbacks=[tensorboard_callback3, early_stopping, checkpoint_cb3, reduce_lr])"
   ]
  },
  {
   "cell_type": "code",
   "execution_count": 31,
   "metadata": {},
   "outputs": [
    {
     "name": "stdout",
     "output_type": "stream",
     "text": [
      "25/25 - 1s - loss: 0.2556 - accuracy: 0.9184 - 1s/epoch - 54ms/step\n"
     ]
    }
   ],
   "source": [
    "test_loss3, test_acc3 = model3.evaluate(X_test, y_test, verbose=2)"
   ]
  },
  {
   "cell_type": "code",
   "execution_count": 40,
   "metadata": {},
   "outputs": [
    {
     "data": {
      "image/png": "[encoded data removed]",
      "text/plain": [
       "<Figure size 640x480 with 1 Axes>"
      ]
     },
     "metadata": {},
     "output_type": "display_data"
    },
    {
     "name": "stdout",
     "output_type": "stream",
     "text": [
      "1/1 [==============================] - 0s 75ms/step\n",
      "[[1.3978127e-03 4.7455341e-04 9.9812764e-01]]\n"
     ]
    }
   ],
   "source": [
    "print(predict_one(\"../other_faces/face1314.jpg\", model3))"
   ]
  }
 ],
 "metadata": {
  "kernelspec": {
   "display_name": "benny-ryan-face-rec",
   "language": "python",
   "name": "python3"
  },
  "language_info": {
   "codemirror_mode": {
    "name": "ipython",
    "version": 3
   },
   "file_extension": ".py",
   "mimetype": "text/x-python",
   "name": "python",
   "nbconvert_exporter": "python",
   "pygments_lexer": "ipython3",
   "version": "3.10.14"
  }
 },
 "nbformat": 4,
 "nbformat_minor": 2
}
